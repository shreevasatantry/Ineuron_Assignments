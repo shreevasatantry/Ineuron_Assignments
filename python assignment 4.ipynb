{
 "cells": [
  {
   "cell_type": "markdown",
   "metadata": {},
   "source": [
    "$\\color{blue}{(1.1)}$ <i>Write a Python Program(with class concepts) to find the area of the triangle using the below\n",
    "formula.\n",
    "    \n",
    "${area = (s*(s-a)*(s-b)*(s-c)) ** 0.5}$\n",
    "    \n",
    "Function to take the length of the sides of triangle from user should be defined in the parent\n",
    "class and function to calculate the area should be defined in subclass.</i>"
   ]
  },
  {
   "cell_type": "code",
   "execution_count": 75,
   "metadata": {},
   "outputs": [
    {
     "name": "stdout",
     "output_type": "stream",
     "text": [
      "Enter side a:3\n",
      "Enter side b:4\n",
      "Enter side c:5\n",
      "Area of the triangle with sides a=3,b=4,c=5 is 6.0\n"
     ]
    }
   ],
   "source": [
    "class Triangle:\n",
    "    def __init__(self):\n",
    "        self.a = int(input(\"Enter side a:\"))\n",
    "        self.b = int(input(\"Enter side b:\"))\n",
    "        self.c = int(input(\"Enter side c:\"))\n",
    "class Area(Triangle):\n",
    "    def __init__(self):\n",
    "        Triangle.__init__(self)\n",
    "        \n",
    "    def areaTriangle(self):\n",
    "        a,b,c = self.a,self.b,self.c\n",
    "        s = (a+b+c)/2\n",
    "        area = (s*(s-a)*(s-b)*(s-c)) ** 0.5\n",
    "        print(f\"Area of the triangle with sides a={a},b={b},c={c} is {area}\")\n",
    "        \n",
    "x = Area()\n",
    "x.areaTriangle()"
   ]
  },
  {
   "cell_type": "markdown",
   "metadata": {},
   "source": [
    "$\\color{blue}{(1.2)}$ <i>Write a function filter_long_words() that takes a list of words and an integer n and returns\n",
    "the list of words that are longer than n.</i>"
   ]
  },
  {
   "cell_type": "code",
   "execution_count": 18,
   "metadata": {},
   "outputs": [
    {
     "name": "stdout",
     "output_type": "stream",
     "text": [
      "Enter the n value: 4\n",
      "The words that are longer than 4 is : ['Hello', 'Shreevasa', 'Machine', 'Learning']\n"
     ]
    }
   ],
   "source": [
    "def filter_long_words(arr,n):\n",
    "    lst = []\n",
    "    for i in arr:\n",
    "        if len(i) > n:\n",
    "            lst.append(i)\n",
    "    return lst\n",
    "n = int(input(\"Enter the n value: \"))\n",
    "arr = [\"Hello\",\"my\",\"name\",\"is\",\"Shreevasa\",\"I\",\"love\",\"Machine\",\"Learning\"]\n",
    "print(f\"The words that are longer than {n} is : {filter_long_words(arr,n)}\")"
   ]
  },
  {
   "cell_type": "markdown",
   "metadata": {},
   "source": [
    "$\\color{blue}{(2.1)}$  <i>Write a Python program using function concept that maps list of words into a list of integers\n",
    "representing the lengths of the corresponding words.\n",
    "    \n",
    "Hint: If a list [ ab,cde,erty] is passed on to the python function output should come as [2,3,4]\n",
    "Here 2,3 and 4 are the lengths of the words in the list.</i>"
   ]
  },
  {
   "cell_type": "code",
   "execution_count": 21,
   "metadata": {},
   "outputs": [
    {
     "name": "stdout",
     "output_type": "stream",
     "text": [
      "The length of each words in the array:  [5, 2, 4, 2, 9, 1, 4, 7, 8]\n"
     ]
    }
   ],
   "source": [
    "def maplength(arr):\n",
    "    return [len(x) for x in arr]\n",
    "\n",
    "arr = [\"Hello\",\"my\",\"name\",\"is\",\"Shreevasa\",\"I\",\"love\",\"Machine\",\"Learning\"]\n",
    "print(\"The length of each words in the array: \",maplength(arr))"
   ]
  },
  {
   "cell_type": "markdown",
   "metadata": {},
   "source": [
    "$\\color{blue}{(2.2)}$  <i>Write a Python function which takes a character (i.e. a string of length 1) and returns True if\n",
    "it is a vowel, False otherwise.</i>"
   ]
  },
  {
   "cell_type": "code",
   "execution_count": 35,
   "metadata": {},
   "outputs": [
    {
     "name": "stdout",
     "output_type": "stream",
     "text": [
      "Enter a single character: AS\n",
      "The character AS is is not a string of length 1\n"
     ]
    }
   ],
   "source": [
    "def checkVowel(a):\n",
    "    if len(a) > 1:\n",
    "        return \"is not a string of length 1\"\n",
    "    if a.lower() in ['a','e','i','o','u']:\n",
    "        return \"Vowel\"\n",
    "    else:\n",
    "        return \"Consonant \"\n",
    "inp = input(\"Enter a single character: \")\n",
    "print(f\"The character {inp} is {checkVowel(inp)}\")"
   ]
  },
  {
   "cell_type": "code",
   "execution_count": null,
   "metadata": {},
   "outputs": [],
   "source": []
  }
 ],
 "metadata": {
  "kernelspec": {
   "display_name": "Python 3",
   "language": "python",
   "name": "python3"
  },
  "language_info": {
   "codemirror_mode": {
    "name": "ipython",
    "version": 3
   },
   "file_extension": ".py",
   "mimetype": "text/x-python",
   "name": "python",
   "nbconvert_exporter": "python",
   "pygments_lexer": "ipython3",
   "version": "3.8.3"
  }
 },
 "nbformat": 4,
 "nbformat_minor": 4
}
